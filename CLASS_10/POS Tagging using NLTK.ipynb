{
 "cells": [
  {
   "cell_type": "code",
   "execution_count": 1,
   "id": "0b57ff4a",
   "metadata": {},
   "outputs": [
    {
     "name": "stderr",
     "output_type": "stream",
     "text": [
      "[nltk_data] Downloading package averaged_perceptron_tagger to\n",
      "[nltk_data]     C:\\Users\\ADMIN\\AppData\\Roaming\\nltk_data...\n",
      "[nltk_data]   Unzipping taggers\\averaged_perceptron_tagger.zip.\n"
     ]
    },
    {
     "data": {
      "text/plain": [
       "True"
      ]
     },
     "execution_count": 1,
     "metadata": {},
     "output_type": "execute_result"
    }
   ],
   "source": [
    "import nltk\n",
    "nltk.download('averaged_perceptron_tagger')"
   ]
  },
  {
   "cell_type": "code",
   "execution_count": 2,
   "id": "093c29fe",
   "metadata": {},
   "outputs": [],
   "source": [
    "sent= \"Here we are learning how does POS Taggingv works\""
   ]
  },
  {
   "cell_type": "code",
   "execution_count": 3,
   "id": "c3afe91d",
   "metadata": {},
   "outputs": [],
   "source": [
    "sent= sent.lower()"
   ]
  },
  {
   "cell_type": "code",
   "execution_count": 4,
   "id": "6b924d0a",
   "metadata": {},
   "outputs": [],
   "source": [
    "words=nltk.word_tokenize(sent)"
   ]
  },
  {
   "cell_type": "code",
   "execution_count": 5,
   "id": "46612f2c",
   "metadata": {},
   "outputs": [
    {
     "data": {
      "text/plain": [
       "['here', 'we', 'are', 'learning', 'how', 'does', 'pos', 'taggingv', 'works']"
      ]
     },
     "execution_count": 5,
     "metadata": {},
     "output_type": "execute_result"
    }
   ],
   "source": [
    "words\n"
   ]
  },
  {
   "cell_type": "code",
   "execution_count": 6,
   "id": "e7e35dc3",
   "metadata": {},
   "outputs": [],
   "source": [
    "pos_tags=nltk.pos_tag(words)"
   ]
  },
  {
   "cell_type": "code",
   "execution_count": 7,
   "id": "df8456e9",
   "metadata": {},
   "outputs": [
    {
     "data": {
      "text/plain": [
       "[('here', 'RB'),\n",
       " ('we', 'PRP'),\n",
       " ('are', 'VBP'),\n",
       " ('learning', 'VBG'),\n",
       " ('how', 'WRB'),\n",
       " ('does', 'VBZ'),\n",
       " ('pos', 'VB'),\n",
       " ('taggingv', 'VB'),\n",
       " ('works', 'NNS')]"
      ]
     },
     "execution_count": 7,
     "metadata": {},
     "output_type": "execute_result"
    }
   ],
   "source": [
    "pos_tags\n"
   ]
  },
  {
   "cell_type": "code",
   "execution_count": null,
   "id": "5102864f",
   "metadata": {},
   "outputs": [],
   "source": []
  }
 ],
 "metadata": {
  "kernelspec": {
   "display_name": "Python 3 (ipykernel)",
   "language": "python",
   "name": "python3"
  },
  "language_info": {
   "codemirror_mode": {
    "name": "ipython",
    "version": 3
   },
   "file_extension": ".py",
   "mimetype": "text/x-python",
   "name": "python",
   "nbconvert_exporter": "python",
   "pygments_lexer": "ipython3",
   "version": "3.12.3"
  }
 },
 "nbformat": 4,
 "nbformat_minor": 5
}
