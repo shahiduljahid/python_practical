{
 "cells": [
  {
   "cell_type": "code",
   "execution_count": 4,
   "id": "c5e2b4ee",
   "metadata": {},
   "outputs": [
    {
     "name": "stdout",
     "output_type": "stream",
     "text": [
      "100\n",
      "[[0.7439699]]\n",
      "[[0.09779004]]\n",
      "[[0.2528864]]\n"
     ]
    }
   ],
   "source": [
    "import gensim.downloader as api\n",
    "from nltk.tokenize import word_tokenize\n",
    "import nltk\n",
    "from sklearn.metrics.pairwise import cosine_similarity\n",
    "\n",
    "# Download GloVe vectors\n",
    "glove_model = api.load(\"glove-wiki-gigaword-100\")\n",
    "\n",
    "# Define sentences\n",
    "sentences = [\"treasure today's day, as tomorrow is not promised.\",\n",
    "             \"no matter how hard yesterday was, you can always start afresh today.\"]\n",
    "\n",
    "# Tokenize sentences\n",
    "tokenized_sentences = [word_tokenize(sentence) for sentence in sentences]\n",
    "\n",
    "# Retrieve vectors for specific words\n",
    "vector1 = glove_model.get_vector('today')\n",
    "vector2 = glove_model.get_vector('yesterday')\n",
    "vector3 = glove_model.get_vector('afresh')\n",
    "vector4 = glove_model.get_vector('treasure')\n",
    "\n",
    "# Print length of a vector\n",
    "print(len(vector1))\n",
    "\n",
    "# Calculate and print cosine similarities\n",
    "print(cosine_similarity([vector1], [vector2]))\n",
    "print(cosine_similarity([vector1], [vector3]))\n",
    "print(cosine_similarity([vector1], [vector4]))"
   ]
  }
 ],
 "metadata": {
  "kernelspec": {
   "display_name": "Python 3 (ipykernel)",
   "language": "python",
   "name": "python3"
  },
  "language_info": {
   "codemirror_mode": {
    "name": "ipython",
    "version": 3
   },
   "file_extension": ".py",
   "mimetype": "text/x-python",
   "name": "python",
   "nbconvert_exporter": "python",
   "pygments_lexer": "ipython3",
   "version": "3.12.3"
  }
 },
 "nbformat": 4,
 "nbformat_minor": 5
}
