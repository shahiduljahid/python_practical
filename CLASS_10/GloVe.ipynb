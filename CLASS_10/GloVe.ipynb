{
 "cells": [
  {
   "cell_type": "code",
   "execution_count": 1,
   "id": "c5e2b4ee",
   "metadata": {},
   "outputs": [
    {
     "name": "stdout",
     "output_type": "stream",
     "text": [
      "100\n",
      "[[0.02232038]]\n",
      "[[0.00851715]]\n",
      "[[-0.07085276]]\n"
     ]
    }
   ],
   "source": [
    "from gensim.models import Word2Vec\n",
    "import nltk\n",
    "from nltk.tokenize import word_tokenize\n",
    "from sklearn.metrics. pairwise import cosine_similarity\n",
    "#nltk.download('punkt')\n",
    "nltk.data.path.append(\"./nltk_data/\")\n",
    "sentences = [\"treasure today's day, as tomorrow is not promised.\",\n",
    "\"no matter how hard yesterday was, you can always start afresh today.\"]\n",
    "\n",
    "tokenized_sentences = [word_tokenize (sentence) for sentence in sentences]\n",
    "# 训练Word2Vec模型\n",
    "model = Word2Vec(tokenized_sentences, vector_size=100, window=5, min_count=1, workers=4) # 使用模型\n",
    "vector1 = model.wv ['today'] # *N\n",
    "\n",
    "vector2 = model.wv['yesterday']\n",
    "\n",
    "vector3 = model.wv['afresh']\n",
    "\n",
    "vector4 = model.wv [ 'treasure']\n",
    "\n",
    "# 输出向量维度\n",
    "print(len (vector1))\n",
    "# 计算cosine距离\n",
    "print(cosine_similarity ([vector1], [vector2]))\n",
    "print(cosine_similarity ([vector1], [vector3]))\n",
    "25\n",
    "print(cosine_similarity ([vector1], [vector4]))"
   ]
  },
  {
   "cell_type": "code",
   "execution_count": null,
   "id": "125f617e",
   "metadata": {},
   "outputs": [],
   "source": []
  }
 ],
 "metadata": {
  "kernelspec": {
   "display_name": "Python 3 (ipykernel)",
   "language": "python",
   "name": "python3"
  },
  "language_info": {
   "codemirror_mode": {
    "name": "ipython",
    "version": 3
   },
   "file_extension": ".py",
   "mimetype": "text/x-python",
   "name": "python",
   "nbconvert_exporter": "python",
   "pygments_lexer": "ipython3",
   "version": "3.11.5"
  }
 },
 "nbformat": 4,
 "nbformat_minor": 5
}
