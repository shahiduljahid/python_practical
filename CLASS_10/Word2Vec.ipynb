{
 "cells": [
  {
   "cell_type": "markdown",
   "id": "809adaf0",
   "metadata": {},
   "source": []
  },
  {
   "cell_type": "code",
   "execution_count": 4,
   "id": "905f4700",
   "metadata": {},
   "outputs": [
    {
     "name": "stdout",
     "output_type": "stream",
     "text": [
      "100\n",
      "[[0.02232039]]\n",
      "[[0.00851715]]\n",
      "[[-0.07085276]]\n"
     ]
    }
   ],
   "source": [
    "from gensim.models import Word2Vec\n",
    "from nltk.tokenize import word_tokenize\n",
    "import nltk\n",
    "from sklearn.metrics.pairwise import cosine_similarity\n",
    "\n",
    "\n",
    "# Define sentences\n",
    "sentences = [\"treasure today's day, as tomorrow is not promised.\",\n",
    "             \"no matter how hard yesterday was, you can always start afresh today.\"]\n",
    "\n",
    "# Tokenize sentences\n",
    "tokenized_sentences = [word_tokenize(sentence) for sentence in sentences]\n",
    "\n",
    "# Train Word2Vec model\n",
    "model = Word2Vec(tokenized_sentences, vector_size=100, window=5, min_count=1, workers=4)\n",
    "\n",
    "# Retrieve vectors for specific words\n",
    "vector1 = model.wv['today']\n",
    "vector2 = model.wv['yesterday']\n",
    "vector3 = model.wv['afresh']\n",
    "vector4 = model.wv['treasure']\n",
    "\n",
    "# Print length of a vector\n",
    "print(len(vector1))\n",
    "\n",
    "# Calculate and print cosine similarities\n",
    "print(cosine_similarity([vector1], [vector2]))\n",
    "print(cosine_similarity([vector1], [vector3]))\n",
    "print(cosine_similarity([vector1], [vector4]))\n"
   ]
  }
 ],
 "metadata": {
  "kernelspec": {
   "display_name": "Python 3 (ipykernel)",
   "language": "python",
   "name": "python3"
  },
  "language_info": {
   "codemirror_mode": {
    "name": "ipython",
    "version": 3
   },
   "file_extension": ".py",
   "mimetype": "text/x-python",
   "name": "python",
   "nbconvert_exporter": "python",
   "pygments_lexer": "ipython3",
   "version": "3.12.3"
  }
 },
 "nbformat": 4,
 "nbformat_minor": 5
}
