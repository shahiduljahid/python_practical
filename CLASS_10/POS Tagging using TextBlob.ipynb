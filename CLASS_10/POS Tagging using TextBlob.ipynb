{
 "cells": [
  {
   "cell_type": "code",
   "execution_count": 6,
   "id": "4be7eb4a",
   "metadata": {},
   "outputs": [],
   "source": [
    "from textblob import TextBlob"
   ]
  },
  {
   "cell_type": "code",
   "execution_count": 7,
   "id": "c08d5ea8",
   "metadata": {},
   "outputs": [],
   "source": [
    "sent = \"Here we are learning how does POS tagg\""
   ]
  },
  {
   "cell_type": "code",
   "execution_count": 8,
   "id": "0593f8f0",
   "metadata": {},
   "outputs": [],
   "source": [
    "result= TextBlob(sent)"
   ]
  },
  {
   "cell_type": "code",
   "execution_count": 9,
   "id": "642465fb",
   "metadata": {},
   "outputs": [
    {
     "data": {
      "text/plain": [
       "TextBlob(\"Here we are learning how does POS tagg\")"
      ]
     },
     "execution_count": 9,
     "metadata": {},
     "output_type": "execute_result"
    }
   ],
   "source": [
    "result"
   ]
  },
  {
   "cell_type": "code",
   "execution_count": null,
   "id": "f41357da",
   "metadata": {},
   "outputs": [],
   "source": []
  }
 ],
 "metadata": {
  "kernelspec": {
   "display_name": "Python 3 (ipykernel)",
   "language": "python",
   "name": "python3"
  },
  "language_info": {
   "codemirror_mode": {
    "name": "ipython",
    "version": 3
   },
   "file_extension": ".py",
   "mimetype": "text/x-python",
   "name": "python",
   "nbconvert_exporter": "python",
   "pygments_lexer": "ipython3",
   "version": "3.12.3"
  }
 },
 "nbformat": 4,
 "nbformat_minor": 5
}
