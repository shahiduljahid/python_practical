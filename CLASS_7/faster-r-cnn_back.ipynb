{
 "cells": [
  {
   "cell_type": "markdown",
   "id": "784935b0",
   "metadata": {
    "papermill": {
     "duration": 0.006478,
     "end_time": "2023-04-18T11:35:05.625497",
     "exception": false,
     "start_time": "2023-04-18T11:35:05.619019",
     "status": "completed"
    },
    "tags": []
   },
   "source": [
    "# 加载常用的库"
   ]
  },
  {
   "cell_type": "code",
   "execution_count": null,
   "id": "c9af4832",
   "metadata": {
    "collapsed": true,
    "execution": {
     "iopub.execute_input": "2023-04-18T11:35:05.640087Z",
     "iopub.status.busy": "2023-04-18T11:35:05.639799Z",
     "iopub.status.idle": "2023-04-18T11:35:26.617546Z",
     "shell.execute_reply": "2023-04-18T11:35:26.616360Z"
    },
    "jupyter": {
     "outputs_hidden": true
    },
    "papermill": {
     "duration": 20.987971,
     "end_time": "2023-04-18T11:35:26.619988",
     "exception": false,
     "start_time": "2023-04-18T11:35:05.632017",
     "status": "completed"
    },
    "tags": []
   },
   "outputs": [],
   "source": [
    "from torch_snippets import *\n",
    "import torch\n",
    "from PIL import Image\n",
    "from torch.utils.data import Dataset, DataLoader\n",
    "from torchvision import models\n",
    "from torchvision.models.detection.faster_rcnn import FastRCNNPredictor\n",
    "from xml.etree import ElementTree as et\n",
    "device = 'cpu'\n",
    "from dotenv import load_dotenv\n",
    "\n",
    "load_dotenv()"
   ]
  },
  {
   "cell_type": "markdown",
   "id": "738cb1b7",
   "metadata": {
    "papermill": {
     "duration": 0.006653,
     "end_time": "2023-04-18T11:35:26.634383",
     "exception": false,
     "start_time": "2023-04-18T11:35:26.627730",
     "status": "completed"
    },
    "tags": []
   },
   "source": [
    "# 读取数据"
   ]
  },
  {
   "cell_type": "code",
   "execution_count": null,
   "id": "06182982",
   "metadata": {
    "execution": {
     "iopub.execute_input": "2023-04-18T11:35:26.663240Z",
     "iopub.status.busy": "2023-04-18T11:35:26.662337Z",
     "iopub.status.idle": "2023-04-18T11:35:26.668094Z",
     "shell.execute_reply": "2023-04-18T11:35:26.667186Z"
    },
    "papermill": {
     "duration": 0.015588,
     "end_time": "2023-04-18T11:35:26.670162",
     "exception": false,
     "start_time": "2023-04-18T11:35:26.654574",
     "status": "completed"
    },
    "tags": []
   },
   "outputs": [],
   "source": [
    "DATASET = os.getenv('APPLE_DATASET_WITH_IMG')\n",
    "folder_path= DATASET\n",
    "train_dir = os.path.join(folder_path+'train')\n",
    "test_dir = os.path.join(folder_path+'test')\n",
    "root = train_dir\n",
    "\n",
    "\n",
    "# we have four labels\n",
    "labels = ['background', 'orange', 'apple', 'banana']\n",
    "label2targets = {l: t for t, l in enumerate(labels)}\n",
    "targets2label = {t: l for l, t in label2targets.items()}\n",
    "num_classes = len(targets2label)"
   ]
  },
  {
   "cell_type": "code",
   "execution_count": null,
   "id": "c1b9e555",
   "metadata": {
    "execution": {
     "iopub.execute_input": "2023-04-18T11:35:26.708858Z",
     "iopub.status.busy": "2023-04-18T11:35:26.708597Z",
     "iopub.status.idle": "2023-04-18T11:35:30.012111Z",
     "shell.execute_reply": "2023-04-18T11:35:30.011004Z"
    },
    "papermill": {
     "duration": 3.314238,
     "end_time": "2023-04-18T11:35:30.014882",
     "exception": false,
     "start_time": "2023-04-18T11:35:26.700644",
     "status": "completed"
    },
    "tags": []
   },
   "outputs": [],
   "source": [
    "def preprocess_img(img):\n",
    "    img = torch.tensor(img).permute(2, 0 ,1)\n",
    "    return img.to(device).float()\n",
    "\n",
    "class FruitsDataset(Dataset):\n",
    "    def __init__(self, root=root, transforms=None):\n",
    "        self.root = root\n",
    "        self.transforms = transforms\n",
    "        self.img_paths = sorted(Glob(self.root + '/*.jpg'))\n",
    "        self.xlm_paths = sorted(Glob(self.root + '/*.xml'))\n",
    "    \n",
    "    def __len__(self):\n",
    "        return len(self.img_paths)\n",
    "    \n",
    "    def __getitem__(self, idx):\n",
    "        w, h = 224, 224\n",
    "        img_path = self.img_paths[idx]\n",
    "        xlm_path = self.xlm_paths[idx]\n",
    "        img = Image.open(img_path).convert('RGB')\n",
    "        W, H = img.size\n",
    "        img = np.array(img.resize((w, h), \n",
    "                       resample=Image.Resampling.BILINEAR))/255.\n",
    "        xlm = et.parse(xlm_path)\n",
    "        objects = xlm.findall('object')\n",
    "        labels = []\n",
    "        boxes = []\n",
    "        for obj in objects:\n",
    "            label = obj.find('name').text\n",
    "            labels.append(label)\n",
    "            XMin = float(obj.find('bndbox').find('xmin').text)\n",
    "            YMin = float(obj.find('bndbox').find('ymin').text)\n",
    "            XMax = float(obj.find('bndbox').find('xmax').text)\n",
    "            YMax = float(obj.find('bndbox').find('ymax').text)\n",
    "            bbox = [XMin / W, YMin / H, XMax / W, YMax / H]\n",
    "            bbox = (bbox * np.array([w, h, w, h])).astype(np.int16).tolist()\n",
    "            boxes.append(bbox)\n",
    "        target = {}\n",
    "        target['labels'] = torch.tensor([label2targets[label] for label in labels]).long()\n",
    "        target['boxes'] = torch.tensor(boxes).float()\n",
    "        img = preprocess_img(img)\n",
    "        return img, target\n",
    "    \n",
    "    def collate_fn(self, batch):\n",
    "        return tuple(zip(*batch))\n",
    "\n",
    "val_root = test_dir\n",
    "    \n",
    "tr_ds = FruitsDataset()\n",
    "tr_dl = DataLoader(tr_ds, batch_size=4, shuffle=True, collate_fn=tr_ds.collate_fn)\n",
    "\n",
    "val_ds = FruitsDataset(root=val_root)\n",
    "val_dl = DataLoader(val_ds, batch_size=2, shuffle=True, collate_fn=val_ds.collate_fn)\n",
    "\n",
    "img, target = tr_ds[10]"
   ]
  },
  {
   "cell_type": "markdown",
   "id": "5cbf5297",
   "metadata": {
    "papermill": {
     "duration": 0.006686,
     "end_time": "2023-04-18T11:35:30.028769",
     "exception": false,
     "start_time": "2023-04-18T11:35:30.022083",
     "status": "completed"
    },
    "tags": []
   },
   "source": [
    "# 模型评估"
   ]
  },
  {
   "cell_type": "code",
   "execution_count": null,
   "id": "dc33c5a7",
   "metadata": {
    "execution": {
     "iopub.execute_input": "2023-04-18T11:35:30.071527Z",
     "iopub.status.busy": "2023-04-18T11:35:30.071182Z",
     "iopub.status.idle": "2023-04-18T11:35:38.081391Z",
     "shell.execute_reply": "2023-04-18T11:35:38.080403Z"
    },
    "papermill": {
     "duration": 8.020063,
     "end_time": "2023-04-18T11:35:38.083482",
     "exception": false,
     "start_time": "2023-04-18T11:35:30.063419",
     "status": "completed"
    },
    "tags": []
   },
   "outputs": [],
   "source": [
    "def get_model():\n",
    "    model = models.detection.fasterrcnn_resnet50_fpn(pretrained=True)\n",
    "    in_features = model.roi_heads.box_predictor.cls_score.in_features\n",
    "    #print(in_features)\n",
    "    model.roi_heads.box_predictor = FastRCNNPredictor(in_features, num_classes)\n",
    "    return model\n",
    "\n",
    "# test the model\n",
    "imgs, targets = next(iter(tr_dl))\n",
    "imgs = list(img.to(device) for img in imgs)\n",
    "targets = [{k: v.to(device) for k, v in t.items()} for t in targets]\n",
    "\n",
    "LOAD_MODEL = False\n",
    "MODELS_FOLDER_PATH = os.getenv('MODEL_FOLDER_PATH')\n",
    "OUR_FAST_R_CNN_MODEL_File = os.path.join(MODELS_FOLDER_PATH+'our_fast_r_cnn_model.pth')\n",
    "\n",
    "model = get_model().to(device)\n",
    "model(imgs, targets)\n",
    "\n"
   ]
  },
  {
   "cell_type": "code",
   "execution_count": null,
   "id": "7b190970",
   "metadata": {},
   "outputs": [],
   "source": [
    "def save_checkpoint(state, filename=\"my_checkpoint.pth\"):\n",
    "    print(\"=> Saving checkpoint\")\n",
    "    torch.save(state, filename)\n",
    "    \n",
    "def load_checkpoint(checkpoint, model, optimizer):\n",
    "    print(\"=> Loading checkpoint\")\n",
    "    model.load_state_dict(checkpoint[\"state_dict\"])\n",
    "    optimizer.load_state_dict(checkpoint[\"optimizer\"])"
   ]
  },
  {
   "cell_type": "code",
   "execution_count": null,
   "id": "9a93ae45",
   "metadata": {
    "execution": {
     "iopub.execute_input": "2023-04-18T11:35:38.099800Z",
     "iopub.status.busy": "2023-04-18T11:35:38.099109Z",
     "iopub.status.idle": "2023-04-18T11:38:29.875590Z",
     "shell.execute_reply": "2023-04-18T11:38:29.874672Z"
    },
    "papermill": {
     "duration": 171.786705,
     "end_time": "2023-04-18T11:38:29.877656",
     "exception": false,
     "start_time": "2023-04-18T11:35:38.090951",
     "status": "completed"
    },
    "tags": []
   },
   "outputs": [],
   "source": [
    "def train_batch(batch, model, optim):\n",
    "    model.train()\n",
    "    imgs, targets = batch\n",
    "    imgs = list(img.to(device) for img in imgs)\n",
    "    targets = [{k: v.to(device) for k, v in t.items()} for t in targets]\n",
    "    optim.zero_grad()\n",
    "    losses = model(imgs, targets)\n",
    "    loss = sum(loss for loss in losses.values())\n",
    "    loss.backward()\n",
    "    optim.step()\n",
    "    return loss, losses\n",
    "\n",
    "@torch.no_grad()\n",
    "def validate_batch(batch, model, optim):\n",
    "    model.train()\n",
    "    imgs, targets = batch\n",
    "    imgs = list(img.to(device) for img in imgs)\n",
    "    targets = [{k: v.to(device) for k, v in t.items()} for t in targets]\n",
    "    optim.zero_grad()\n",
    "    losses = model(imgs, targets)\n",
    "    loss = sum(loss for loss in losses.values())\n",
    "    return loss, losses\n",
    "\n",
    "model = get_model().to(device)\n",
    "optimizer = torch.optim.SGD(model.parameters(), lr=0.005,\n",
    "                       weight_decay=5e-4, momentum=0.9)\n",
    "if LOAD_MODEL:\n",
    "    load_checkpoint(torch.load(OUR_FAST_R_CNN_MODEL_File), model, optimizer)\n",
    "n_epochs = 5\n",
    "log = Report(n_epochs)\n",
    "for e in range(n_epochs):\n",
    "    for i, batch in enumerate(tr_dl):\n",
    "        N = len(tr_dl)\n",
    "        loss, losses = train_batch(batch, model, optimizer)\n",
    "        loc_loss, regr_loss, loss_objectness, loss_rpn_box_reg = [losses[k] for k in \n",
    "                                                                  ['loss_classifier', 'loss_box_reg', 'loss_objectness', 'loss_rpn_box_reg']]\n",
    "        log.record(e + (i+1)/N, trn_loss=loss.item(), trn_loc_loss=loc_loss.item(),\n",
    "                   trn_regr_loss=regr_loss.item(), trn_loss_objectness=loss_objectness.item(),\n",
    "                   trn_loss_rpn_box_reg = loss_rpn_box_reg.item())\n",
    "    for i, batch in enumerate(val_dl):\n",
    "        N = len(val_dl)\n",
    "        loss, losses = validate_batch(batch, model.float(), optimizer)\n",
    "        loc_loss, regr_loss, loss_objectness, loss_rpn_box_reg = [losses[k] for k in \n",
    "                                                                  ['loss_classifier', 'loss_box_reg', \n",
    "                                                                   'loss_objectness', 'loss_rpn_box_reg']]\n",
    "        log.record(e + (i+1)/N, val_loss=loss.item(), val_loc_loss=loc_loss.item(),\n",
    "                   val_regr_loss=regr_loss.item(), val_loss_objectness=loss_objectness.item(),\n",
    "                   val_loss_rpn_box_reg = loss_rpn_box_reg.item())\n",
    "    log.report_avgs(e+1)\n",
    "checkpoint ={\n",
    "    \"state_dict\": model.state_dict(),\n",
    "    \"optimizer\": optimizer.state_dict(),\n",
    "    }\n",
    "save_checkpoint(checkpoint, filename=OUR_FAST_R_CNN_MODEL_File)\n",
    "log.plot_epochs(['trn_loss', 'val_loss'])"
   ]
  },
  {
   "cell_type": "markdown",
   "id": "83264ddc",
   "metadata": {},
   "source": [
    "LOAD THE MODEL AND DETECT OBJECT"
   ]
  },
  {
   "cell_type": "code",
   "execution_count": null,
   "id": "b35c43d2",
   "metadata": {},
   "outputs": [],
   "source": [
    "\n",
    "LOAD_MODEL = True\n",
    "model = get_model().to(device)\n",
    "optimizer = torch.optim.SGD(model.parameters(), lr=0.005,\n",
    "                       weight_decay=5e-4, momentum=0.9)\n",
    "load_checkpoint(torch.load(OUR_FAST_R_CNN_MODEL_File), model, optimizer)\n",
    "model.eval()"
   ]
  },
  {
   "cell_type": "code",
   "execution_count": null,
   "id": "14299eba",
   "metadata": {
    "execution": {
     "iopub.execute_input": "2023-04-18T11:38:29.990409Z",
     "iopub.status.busy": "2023-04-18T11:38:29.988890Z",
     "iopub.status.idle": "2023-04-18T11:38:31.416085Z",
     "shell.execute_reply": "2023-04-18T11:38:31.415126Z"
    },
    "papermill": {
     "duration": 1.458019,
     "end_time": "2023-04-18T11:38:31.418475",
     "exception": false,
     "start_time": "2023-04-18T11:38:29.960456",
     "status": "completed"
    },
    "tags": []
   },
   "outputs": [],
   "source": [
    "from torchvision.ops import nms\n",
    "\n",
    "def decode_output(output):\n",
    "    bbs = output['boxes'].cpu().detach().numpy().astype(np.uint16)\n",
    "    labels = np.array([targets2label[i] for i in output['labels'].cpu().detach().numpy()])\n",
    "    confs = output['scores'].cpu().detach().numpy()\n",
    "    idxs = nms(torch.tensor(bbs.astype(np.float32)), torch.tensor(confs), 0.05)\n",
    "    bbs, confs, labels = [tensor[idxs] for tensor in [bbs, confs, labels]]\n",
    "    if len(idxs) == 1:\n",
    "        bbs, confs, labels = [np.array([tensor]) for tensor in [bbs, confs, labels]]\n",
    "    return bbs.tolist(), confs.tolist(), labels.tolist()\n",
    "\n",
    "for i, (images, targets) in enumerate(val_dl):\n",
    "    if i == 3: break\n",
    "    images = [im for im in images]\n",
    "    outputs = model(images)\n",
    "    for i, output in enumerate(outputs):\n",
    "        bbs, confs, labels = decode_output(output)\n",
    "        show(images[i].cpu().permute(1,2,0), bbs=bbs, texts=labels, sz=5, text_sz=10)"
   ]
  }
 ],
 "metadata": {
  "kernelspec": {
   "display_name": "Python 3",
   "language": "python",
   "name": "python3"
  },
  "language_info": {
   "codemirror_mode": {
    "name": "ipython",
    "version": 3
   },
   "file_extension": ".py",
   "mimetype": "text/x-python",
   "name": "python",
   "nbconvert_exporter": "python",
   "pygments_lexer": "ipython3",
   "version": "3.12.3"
  },
  "papermill": {
   "default_parameters": {},
   "duration": 216.396664,
   "end_time": "2023-04-18T11:38:34.256807",
   "environment_variables": {},
   "exception": null,
   "input_path": "__notebook__.ipynb",
   "output_path": "__notebook__.ipynb",
   "parameters": {},
   "start_time": "2023-04-18T11:34:57.860143",
   "version": "2.3.4"
  },
  "widgets": {
   "application/vnd.jupyter.widget-state+json": {
    "state": {
     "18f1dc6d9d77423a8d0212169fdbc03e": {
      "model_module": "@jupyter-widgets/base",
      "model_module_version": "1.2.0",
      "model_name": "LayoutModel",
      "state": {
       "_model_module": "@jupyter-widgets/base",
       "_model_module_version": "1.2.0",
       "_model_name": "LayoutModel",
       "_view_count": null,
       "_view_module": "@jupyter-widgets/base",
       "_view_module_version": "1.2.0",
       "_view_name": "LayoutView",
       "align_content": null,
       "align_items": null,
       "align_self": null,
       "border": null,
       "bottom": null,
       "display": null,
       "flex": null,
       "flex_flow": null,
       "grid_area": null,
       "grid_auto_columns": null,
       "grid_auto_flow": null,
       "grid_auto_rows": null,
       "grid_column": null,
       "grid_gap": null,
       "grid_row": null,
       "grid_template_areas": null,
       "grid_template_columns": null,
       "grid_template_rows": null,
       "height": null,
       "justify_content": null,
       "justify_items": null,
       "left": null,
       "margin": null,
       "max_height": null,
       "max_width": null,
       "min_height": null,
       "min_width": null,
       "object_fit": null,
       "object_position": null,
       "order": null,
       "overflow": null,
       "overflow_x": null,
       "overflow_y": null,
       "padding": null,
       "right": null,
       "top": null,
       "visibility": null,
       "width": null
      }
     },
     "3eb33b03cbe64bf18401573567621878": {
      "model_module": "@jupyter-widgets/base",
      "model_module_version": "1.2.0",
      "model_name": "LayoutModel",
      "state": {
       "_model_module": "@jupyter-widgets/base",
       "_model_module_version": "1.2.0",
       "_model_name": "LayoutModel",
       "_view_count": null,
       "_view_module": "@jupyter-widgets/base",
       "_view_module_version": "1.2.0",
       "_view_name": "LayoutView",
       "align_content": null,
       "align_items": null,
       "align_self": null,
       "border": null,
       "bottom": null,
       "display": null,
       "flex": null,
       "flex_flow": null,
       "grid_area": null,
       "grid_auto_columns": null,
       "grid_auto_flow": null,
       "grid_auto_rows": null,
       "grid_column": null,
       "grid_gap": null,
       "grid_row": null,
       "grid_template_areas": null,
       "grid_template_columns": null,
       "grid_template_rows": null,
       "height": null,
       "justify_content": null,
       "justify_items": null,
       "left": null,
       "margin": null,
       "max_height": null,
       "max_width": null,
       "min_height": null,
       "min_width": null,
       "object_fit": null,
       "object_position": null,
       "order": null,
       "overflow": null,
       "overflow_x": null,
       "overflow_y": null,
       "padding": null,
       "right": null,
       "top": null,
       "visibility": null,
       "width": null
      }
     },
     "443c49446a48482e82087a3275852463": {
      "model_module": "@jupyter-widgets/controls",
      "model_module_version": "1.5.0",
      "model_name": "HTMLModel",
      "state": {
       "_dom_classes": [],
       "_model_module": "@jupyter-widgets/controls",
       "_model_module_version": "1.5.0",
       "_model_name": "HTMLModel",
       "_view_count": null,
       "_view_module": "@jupyter-widgets/controls",
       "_view_module_version": "1.5.0",
       "_view_name": "HTMLView",
       "description": "",
       "description_tooltip": null,
       "layout": "IPY_MODEL_18f1dc6d9d77423a8d0212169fdbc03e",
       "placeholder": "​",
       "style": "IPY_MODEL_e31db60c8e604f1fbd8f4f49b7b7ba15",
       "value": "100%"
      }
     },
     "7d37db2ded70408182f67a18a2121376": {
      "model_module": "@jupyter-widgets/controls",
      "model_module_version": "1.5.0",
      "model_name": "HBoxModel",
      "state": {
       "_dom_classes": [],
       "_model_module": "@jupyter-widgets/controls",
       "_model_module_version": "1.5.0",
       "_model_name": "HBoxModel",
       "_view_count": null,
       "_view_module": "@jupyter-widgets/controls",
       "_view_module_version": "1.5.0",
       "_view_name": "HBoxView",
       "box_style": "",
       "children": [
        "IPY_MODEL_443c49446a48482e82087a3275852463",
        "IPY_MODEL_c72fea7d16f44560ba9b5478b88574dc",
        "IPY_MODEL_7daffcfb7e0b48ffa2d5f5ca22ba5915"
       ],
       "layout": "IPY_MODEL_da1885885e6e47d194f62dba825ea21e"
      }
     },
     "7daffcfb7e0b48ffa2d5f5ca22ba5915": {
      "model_module": "@jupyter-widgets/controls",
      "model_module_version": "1.5.0",
      "model_name": "HTMLModel",
      "state": {
       "_dom_classes": [],
       "_model_module": "@jupyter-widgets/controls",
       "_model_module_version": "1.5.0",
       "_model_name": "HTMLModel",
       "_view_count": null,
       "_view_module": "@jupyter-widgets/controls",
       "_view_module_version": "1.5.0",
       "_view_name": "HTMLView",
       "description": "",
       "description_tooltip": null,
       "layout": "IPY_MODEL_3eb33b03cbe64bf18401573567621878",
       "placeholder": "​",
       "style": "IPY_MODEL_de70c84f23dd4eff9de2fba9435a8cf9",
       "value": " 160M/160M [00:00&lt;00:00, 244MB/s]"
      }
     },
     "84e9c45a75b7426b97f893352b629743": {
      "model_module": "@jupyter-widgets/controls",
      "model_module_version": "1.5.0",
      "model_name": "ProgressStyleModel",
      "state": {
       "_model_module": "@jupyter-widgets/controls",
       "_model_module_version": "1.5.0",
       "_model_name": "ProgressStyleModel",
       "_view_count": null,
       "_view_module": "@jupyter-widgets/base",
       "_view_module_version": "1.2.0",
       "_view_name": "StyleView",
       "bar_color": null,
       "description_width": ""
      }
     },
     "c72fea7d16f44560ba9b5478b88574dc": {
      "model_module": "@jupyter-widgets/controls",
      "model_module_version": "1.5.0",
      "model_name": "FloatProgressModel",
      "state": {
       "_dom_classes": [],
       "_model_module": "@jupyter-widgets/controls",
       "_model_module_version": "1.5.0",
       "_model_name": "FloatProgressModel",
       "_view_count": null,
       "_view_module": "@jupyter-widgets/controls",
       "_view_module_version": "1.5.0",
       "_view_name": "ProgressView",
       "bar_style": "success",
       "description": "",
       "description_tooltip": null,
       "layout": "IPY_MODEL_f786f4fc4a8548ce9d19fae2b2d48618",
       "max": 167502836,
       "min": 0,
       "orientation": "horizontal",
       "style": "IPY_MODEL_84e9c45a75b7426b97f893352b629743",
       "value": 167502836
      }
     },
     "da1885885e6e47d194f62dba825ea21e": {
      "model_module": "@jupyter-widgets/base",
      "model_module_version": "1.2.0",
      "model_name": "LayoutModel",
      "state": {
       "_model_module": "@jupyter-widgets/base",
       "_model_module_version": "1.2.0",
       "_model_name": "LayoutModel",
       "_view_count": null,
       "_view_module": "@jupyter-widgets/base",
       "_view_module_version": "1.2.0",
       "_view_name": "LayoutView",
       "align_content": null,
       "align_items": null,
       "align_self": null,
       "border": null,
       "bottom": null,
       "display": null,
       "flex": null,
       "flex_flow": null,
       "grid_area": null,
       "grid_auto_columns": null,
       "grid_auto_flow": null,
       "grid_auto_rows": null,
       "grid_column": null,
       "grid_gap": null,
       "grid_row": null,
       "grid_template_areas": null,
       "grid_template_columns": null,
       "grid_template_rows": null,
       "height": null,
       "justify_content": null,
       "justify_items": null,
       "left": null,
       "margin": null,
       "max_height": null,
       "max_width": null,
       "min_height": null,
       "min_width": null,
       "object_fit": null,
       "object_position": null,
       "order": null,
       "overflow": null,
       "overflow_x": null,
       "overflow_y": null,
       "padding": null,
       "right": null,
       "top": null,
       "visibility": null,
       "width": null
      }
     },
     "de70c84f23dd4eff9de2fba9435a8cf9": {
      "model_module": "@jupyter-widgets/controls",
      "model_module_version": "1.5.0",
      "model_name": "DescriptionStyleModel",
      "state": {
       "_model_module": "@jupyter-widgets/controls",
       "_model_module_version": "1.5.0",
       "_model_name": "DescriptionStyleModel",
       "_view_count": null,
       "_view_module": "@jupyter-widgets/base",
       "_view_module_version": "1.2.0",
       "_view_name": "StyleView",
       "description_width": ""
      }
     },
     "e31db60c8e604f1fbd8f4f49b7b7ba15": {
      "model_module": "@jupyter-widgets/controls",
      "model_module_version": "1.5.0",
      "model_name": "DescriptionStyleModel",
      "state": {
       "_model_module": "@jupyter-widgets/controls",
       "_model_module_version": "1.5.0",
       "_model_name": "DescriptionStyleModel",
       "_view_count": null,
       "_view_module": "@jupyter-widgets/base",
       "_view_module_version": "1.2.0",
       "_view_name": "StyleView",
       "description_width": ""
      }
     },
     "f786f4fc4a8548ce9d19fae2b2d48618": {
      "model_module": "@jupyter-widgets/base",
      "model_module_version": "1.2.0",
      "model_name": "LayoutModel",
      "state": {
       "_model_module": "@jupyter-widgets/base",
       "_model_module_version": "1.2.0",
       "_model_name": "LayoutModel",
       "_view_count": null,
       "_view_module": "@jupyter-widgets/base",
       "_view_module_version": "1.2.0",
       "_view_name": "LayoutView",
       "align_content": null,
       "align_items": null,
       "align_self": null,
       "border": null,
       "bottom": null,
       "display": null,
       "flex": null,
       "flex_flow": null,
       "grid_area": null,
       "grid_auto_columns": null,
       "grid_auto_flow": null,
       "grid_auto_rows": null,
       "grid_column": null,
       "grid_gap": null,
       "grid_row": null,
       "grid_template_areas": null,
       "grid_template_columns": null,
       "grid_template_rows": null,
       "height": null,
       "justify_content": null,
       "justify_items": null,
       "left": null,
       "margin": null,
       "max_height": null,
       "max_width": null,
       "min_height": null,
       "min_width": null,
       "object_fit": null,
       "object_position": null,
       "order": null,
       "overflow": null,
       "overflow_x": null,
       "overflow_y": null,
       "padding": null,
       "right": null,
       "top": null,
       "visibility": null,
       "width": null
      }
     }
    },
    "version_major": 2,
    "version_minor": 0
   }
  }
 },
 "nbformat": 4,
 "nbformat_minor": 5
}
